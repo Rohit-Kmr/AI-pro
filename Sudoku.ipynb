{
 "cells": [
  {
   "cell_type": "code",
   "execution_count": 140,
   "metadata": {},
   "outputs": [
    {
     "ename": "SyntaxError",
     "evalue": "invalid syntax (<ipython-input-140-8282f7ce54df>, line 3)",
     "output_type": "error",
     "traceback": [
      "\u001b[1;36m  File \u001b[1;32m\"<ipython-input-140-8282f7ce54df>\"\u001b[1;36m, line \u001b[1;32m3\u001b[0m\n\u001b[1;33m    temp=\" \",1,2,3,4,5,6,7,8,9]\u001b[0m\n\u001b[1;37m                              ^\u001b[0m\n\u001b[1;31mSyntaxError\u001b[0m\u001b[1;31m:\u001b[0m invalid syntax\n"
     ]
    }
   ],
   "source": [
    "raw=[]\n",
    "\n",
    "temp=(\" \",1,2,3,4,5,6,7,8,9)\n",
    "from tkinter import *\n",
    "import tkinter.ttk\n",
    "master = Tk() \n",
    "master.title(\"SUDOKU\")\n",
    "master.geometry(\"375x275\")\n",
    "A=[]\n",
    "temp=[]\n",
    "for i in range(11):\n",
    "    for j in range(11):\n",
    "        if i==3 or i==7:\n",
    "            w = Label(master, text='----') \n",
    "            w.grid(column=j,row=i)  \n",
    "            continue\n",
    "        if j==3 or j==7:\n",
    "            w = Label(master, text='|') \n",
    "            w.grid(column=j,row=i)  \n",
    "            continue\n",
    "        A.append(Spinbox(master,values=temp,width=3))\n",
    "        A[-1].grid(column=j,row=i)\n",
    "        #A[-1].pack() \n",
    "        \n",
    "def addtolist():\n",
    "    for i in range(9):\n",
    "        raw.append(list())\n",
    "        for j in range(9):\n",
    "            x=A[i*9 +j].get()\n",
    "            if x==\" \":\n",
    "                raw[i].append(0)\n",
    "            else:\n",
    "                raw[i].append(int(x))\n",
    "    master.destroy()\n",
    "button = Button(master, text='Submit', width=5, command=addtolist) \n",
    "button.grid(column=5,row=12)\n",
    "mainloop() \n",
    "\n"
   ]
  },
  {
   "cell_type": "code",
   "execution_count": 130,
   "metadata": {},
   "outputs": [
    {
     "data": {
      "text/plain": [
       "[[0, 0, 0, 2, 6, 0, 7, 0, 1],\n",
       " [6, 8, 0, 0, 7, 0, 0, 9, 0],\n",
       " [1, 9, 0, 0, 0, 4, 5, 0, 0],\n",
       " [8, 2, 0, 1, 0, 0, 0, 4, 0],\n",
       " [0, 0, 4, 6, 0, 2, 9, 0, 0],\n",
       " [0, 5, 0, 0, 0, 3, 0, 2, 8],\n",
       " [0, 0, 9, 3, 0, 0, 0, 7, 4],\n",
       " [0, 4, 0, 0, 5, 0, 0, 3, 6],\n",
       " [7, 0, 3, 0, 1, 8, 0, 0, 0]]"
      ]
     },
     "execution_count": 130,
     "metadata": {},
     "output_type": "execute_result"
    }
   ],
   "source": [
    "raw"
   ]
  },
  {
   "cell_type": "code",
   "execution_count": 131,
   "metadata": {},
   "outputs": [],
   "source": [
    "temp=list(raw)\n",
    "col=[]\n",
    "row=[]\n",
    "box=[[],[],[],[],[],[],[],[],[]]\n",
    "for i in range(9):\n",
    "    col.append(list())\n",
    "    row.append(list())\n",
    "    for j in range(9):\n",
    "        if temp[i][j]!=0:\n",
    "            row[i].append(temp[i][j])\n",
    "            x=i//3\n",
    "            y=j//3\n",
    "            box[x*3+y].append(temp[i][j])\n",
    "        if temp[j][i]!=0:\n",
    "            col[i].append(temp[j][i])                "
   ]
  },
  {
   "cell_type": "code",
   "execution_count": 132,
   "metadata": {},
   "outputs": [
    {
     "data": {
      "text/plain": [
       "[[6, 1, 8, 7],\n",
       " [8, 9, 2, 5, 4],\n",
       " [4, 9, 3],\n",
       " [2, 1, 6, 3],\n",
       " [6, 7, 5, 1],\n",
       " [4, 2, 3, 8],\n",
       " [7, 5, 9],\n",
       " [9, 4, 2, 7, 3],\n",
       " [1, 8, 4, 6]]"
      ]
     },
     "execution_count": 132,
     "metadata": {},
     "output_type": "execute_result"
    }
   ],
   "source": [
    "col"
   ]
  },
  {
   "cell_type": "code",
   "execution_count": 133,
   "metadata": {},
   "outputs": [],
   "source": [
    "for t in range(100):\n",
    "    for i in range(9):\n",
    "        for k in range(1,10):\n",
    "            if k not in row[i]:\n",
    "                temp=[]\n",
    "                for j in range(9):\n",
    "                    if raw[i][j]==0:\n",
    "                        x=i//3\n",
    "                        y=j//3\n",
    "                        if k not in col[j] and k not in box[x*3+y]:\n",
    "                            temp.append([i,j])\n",
    "                if len(temp)==1:\n",
    "                    x=temp[0][0]\n",
    "                    y=temp[0][1]\n",
    "                    raw[x][y]=k\n",
    "                    row[x].append(k)\n",
    "                    col[y].append(k)\n",
    "                    x=x//3\n",
    "                    y=y//3\n",
    "                    box[x*3+y].append(k)\n",
    "            \n",
    "            if k not in col[i]:\n",
    "                temp=[]\n",
    "                for j in range(9):\n",
    "                    if raw[j][i]==0:\n",
    "                        x=j//3\n",
    "                        y=i//3\n",
    "                        if k not in row[j] and k not in box[x*3+y]:\n",
    "                            temp.append([j,i])\n",
    "                if len(temp)==1:\n",
    "                    x=temp[0][0]\n",
    "                    y=temp[0][1]\n",
    "                    raw[x][y]=k\n",
    "                    row[x].append(k)\n",
    "                    col[y].append(k)\n",
    "                    x=x//3\n",
    "                    y=y//3\n",
    "                    box[x*3+y].append(k)\n",
    "            \n",
    "            if k not in box[i]:\n",
    "                temp=[]\n",
    "                a=-1\n",
    "                for j in range(9):\n",
    "                    b=j%3\n",
    "                    if b==0:\n",
    "                        a+=1\n",
    "                    if raw[a][b]==0:\n",
    "                        x=i//3\n",
    "                        y=j//3\n",
    "                        if k not in col[b] and k not in row[a]:\n",
    "                            temp.append([a,b])\n",
    "                if len(temp)==1:\n",
    "                    x=temp[0][0]\n",
    "                    y=temp[0][1]\n",
    "                    raw[x][y]=k\n",
    "                    row[x].append(k)\n",
    "                    col[y].append(k)\n",
    "                    x=x//3\n",
    "                    y=y//3\n",
    "                    box[x*3+y].append(k)"
   ]
  },
  {
   "cell_type": "code",
   "execution_count": 134,
   "metadata": {},
   "outputs": [
    {
     "data": {
      "text/plain": [
       "[[4, 3, 5, 2, 6, 9, 7, 8, 1],\n",
       " [6, 8, 2, 5, 7, 1, 4, 9, 3],\n",
       " [1, 9, 7, 8, 3, 4, 5, 6, 2],\n",
       " [8, 2, 6, 1, 9, 5, 3, 4, 7],\n",
       " [3, 7, 4, 6, 8, 2, 9, 1, 5],\n",
       " [9, 5, 1, 7, 4, 3, 6, 2, 8],\n",
       " [5, 1, 9, 3, 2, 6, 8, 7, 4],\n",
       " [2, 4, 8, 9, 5, 7, 1, 3, 6],\n",
       " [7, 6, 3, 4, 1, 8, 2, 5, 9]]"
      ]
     },
     "execution_count": 134,
     "metadata": {},
     "output_type": "execute_result"
    }
   ],
   "source": [
    "raw"
   ]
  },
  {
   "cell_type": "code",
   "execution_count": 139,
   "metadata": {},
   "outputs": [],
   "source": [
    "main = Tk() \n",
    "main.title(\"SUDOKU\")\n",
    "main.geometry(\"300x270\")\n",
    "for i in range(11):\n",
    "    for j in range(11):\n",
    "        if i==3 or i==7:\n",
    "            w = Label(main, text='----') \n",
    "            w.grid(column=j,row=i)  \n",
    "            continue\n",
    "        if j==3 or j==7:\n",
    "            w = Label(main, text='|') \n",
    "            w.grid(column=j,row=i)  \n",
    "            continue\n",
    "        x=i\n",
    "        y=j\n",
    "        if i>3:\n",
    "            x=x-1\n",
    "        if i>7:\n",
    "            x=x-1\n",
    "        if j>3:\n",
    "            y=y-1\n",
    "        if j>7:\n",
    "            y=y-1\n",
    "        if raw[x][y]==0:\n",
    "            out=\" \"\n",
    "        else:\n",
    "            out = str(raw[x][y])\n",
    "        sc_out = Message(main, text = out)\n",
    "        sc_out.config(bg='lightblue')\n",
    "        sc_out.grid(column=j,row=i ) \n",
    "main.mainloop( ) "
   ]
  },
  {
   "cell_type": "code",
   "execution_count": null,
   "metadata": {},
   "outputs": [],
   "source": []
  },
  {
   "cell_type": "code",
   "execution_count": null,
   "metadata": {},
   "outputs": [],
   "source": []
  },
  {
   "cell_type": "code",
   "execution_count": null,
   "metadata": {},
   "outputs": [],
   "source": []
  }
 ],
 "metadata": {
  "kernelspec": {
   "display_name": "Python 3",
   "language": "python",
   "name": "python3"
  },
  "language_info": {
   "codemirror_mode": {
    "name": "ipython",
    "version": 3
   },
   "file_extension": ".py",
   "mimetype": "text/x-python",
   "name": "python",
   "nbconvert_exporter": "python",
   "pygments_lexer": "ipython3",
   "version": "3.6.5"
  }
 },
 "nbformat": 4,
 "nbformat_minor": 2
}
