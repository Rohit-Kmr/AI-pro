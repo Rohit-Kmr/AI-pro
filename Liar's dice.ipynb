{
 "cells": [
  {
   "cell_type": "code",
   "execution_count": 1,
   "metadata": {},
   "outputs": [],
   "source": [
    "from random import *\n",
    "import time"
   ]
  },
  {
   "cell_type": "code",
   "execution_count": 2,
   "metadata": {},
   "outputs": [],
   "source": [
    "def gen_die():\n",
    "    t=[]\n",
    "    for i in range(5):\n",
    "        t.append(randrange(6)+1)\n",
    "    return t"
   ]
  },
  {
   "cell_type": "code",
   "execution_count": 3,
   "metadata": {},
   "outputs": [
    {
     "name": "stdout",
     "output_type": "stream",
     "text": [
      "Enter your name : Rohit\n"
     ]
    }
   ],
   "source": [
    "dieF={6:' -----\\n|*   *|\\n|*   *|\\n|*   *|\\n -----',\n",
    "      5:' -----\\n|*   *|\\n|  *  |\\n|*   *|\\n -----',\n",
    "      4:' -----\\n|*   *|\\n|     |\\n|*   *|\\n -----',\n",
    "      3:' -----\\n|*    |\\n|  *  |\\n|    *|\\n -----',\n",
    "      2:' -----\\n|*    |\\n|     |\\n|    *|\\n -----',\n",
    "      1:' -----\\n|     |\\n|  *  |\\n|     |\\n -----'}\n",
    "name=input(\"Enter your name : \")"
   ]
  },
  {
   "cell_type": "code",
   "execution_count": 4,
   "metadata": {},
   "outputs": [
    {
     "name": "stdout",
     "output_type": "stream",
     "text": [
      "Welcom to the game Rohit\n",
      "\n",
      "The rules are as follows :- \n",
      "\n",
      "To begin each round, all players roll their dice simultaneously. Each player looks at their own dice after they roll, keeping them hidden from the other players. (If any dice has landed on top of another, the player must roll all their dice again.) \n",
      "\n",
      " The first player then states a bid consisting of a face (\"1's\", \"5's\", etc.) and a quantity. The quantity represents the player's guess as to how many of each face have been rolled by all the players at the table, including themselves. For example, a player might bid \"five 2's.\" \n",
      "\n",
      " Each subsequent player can either then make a higher bid of the same face (e.g., \"six 2's\"), or they can challenge the previous bid. (Note that there are a large variety of bidding variations that can be used. We'll describe some of them below.)\n",
      "\n",
      " If the player challenges the previous bid, all players reveal their dice. If the bid is matched or exceeded, the bidder wins. Otherwise the challenger wins.\")\n"
     ]
    }
   ],
   "source": [
    "print(\"Welcom to the game \"+name+\"\\n\")\n",
    "print(\"The rules are as follows :- \\n\")\n",
    "print('To begin each round, all players roll their dice simultaneously. Each player looks at their own dice after they roll, keeping them hidden from the other players. (If any dice has landed on top of another, the player must roll all their dice again.) \\n'+\n",
    "\n",
    "'\\n The first player then states a bid consisting of a face (\"1\\'s\", \"5\\'s\", etc.) and a quantity. The quantity represents the player\\'s guess as to how many of each face have been rolled by all the players at the table, including themselves. For example, a player might bid \"five 2\\'s.\" \\n'+\n",
    "\n",
    "'\\n Each subsequent player can either then make a higher bid of the same face (e.g., \"six 2\\'s\"), or they can challenge the previous bid. (Note that there are a large variety of bidding variations that can be used. We\\'ll describe some of them below.)\\n'+\n",
    "\n",
    "'\\n If the player challenges the previous bid, all players reveal their dice. If the bid is matched or exceeded, the bidder wins. Otherwise the challenger wins.\")')"
   ]
  },
  {
   "cell_type": "code",
   "execution_count": 5,
   "metadata": {},
   "outputs": [
    {
     "name": "stdout",
     "output_type": "stream",
     "text": [
      "Lets roll dice\n",
      "Ready!!\n",
      " -----\n",
      "|*    |\n",
      "|  *  |\n",
      "|    *|\n",
      " -----\n",
      " -----\n",
      "|*   *|\n",
      "|     |\n",
      "|*   *|\n",
      " -----\n",
      " -----\n",
      "|*   *|\n",
      "|*   *|\n",
      "|*   *|\n",
      " -----\n",
      " -----\n",
      "|*   *|\n",
      "|*   *|\n",
      "|*   *|\n",
      " -----\n",
      " -----\n",
      "|*    |\n",
      "|     |\n",
      "|    *|\n",
      " -----\n",
      "[3, 4, 6, 6, 2]\n"
     ]
    }
   ],
   "source": [
    "print(\"Lets roll dice\")\n",
    "time.sleep(1)\n",
    "print(\"Ready!!\")\n",
    "time.sleep(1)\n",
    "pl=gen_die()\n",
    "cpu=gen_die()\n",
    "for i in pl:\n",
    "    print(dieF[i])\n",
    "print(pl)"
   ]
  },
  {
   "cell_type": "code",
   "execution_count": 8,
   "metadata": {},
   "outputs": [
    {
     "name": "stdout",
     "output_type": "stream",
     "text": [
      "make the first bid \n",
      "(it in the format 3 of 4 meaning there are 3 faces of 4 ) : 5 of 7\n",
      "wrong face inputed please input a correct face\n",
      "make the first bid \n",
      "(it in the format 3 of 4 meaning there are 3 faces of 4 ) : 3 of 0\n",
      "wrong face inputed please input a correct face\n",
      "make the first bid \n",
      "(it in the format 3 of 4 meaning there are 3 faces of 4 ) : 5 of 5\n",
      "[5, 5]\n"
     ]
    }
   ],
   "source": [
    "die=[1,2,3,4,5,6]\n",
    "while(1):\n",
    "    temp=input(\"make the first bid \\n(it in the format 3 of 4 meaning there are 3 faces of 4 ) : \")\n",
    "    val=temp.split(\"of\")\n",
    "    val[0]=int(val[0])\n",
    "    val[1]=int(val[1])\n",
    "    if val[1] in die:\n",
    "        break\n",
    "    else:\n",
    "        print('wrong face inputed please input a correct face')"
   ]
  },
  {
   "cell_type": "code",
   "execution_count": 14,
   "metadata": {},
   "outputs": [
    {
     "name": "stdout",
     "output_type": "stream",
     "text": [
      " Menu\n",
      " 1. Bid\n",
      " 2. Challenge\n",
      " choice : 1\n",
      "True\n"
     ]
    }
   ],
   "source": [
    "temp=input(' Menu\\n 1. Bid\\n 2. Challenge\\n choice : ')\n",
    "f=False\n",
    "if temp.isdigit():\n",
    "    temp=int(temp)\n",
    "    if temp==1:\n",
    "        f=True\n",
    "    if temp==2:\n",
    "        f=True\n",
    "    else:\n",
    "        print(\"Wrong choice please enter a correct choice\")\n",
    "else:\n",
    "    print(\"Wrong input please enter a correct choice\")\n",
    "\n"
   ]
  },
  {
   "cell_type": "code",
   "execution_count": null,
   "metadata": {},
   "outputs": [],
   "source": []
  },
  {
   "cell_type": "code",
   "execution_count": null,
   "metadata": {},
   "outputs": [],
   "source": []
  }
 ],
 "metadata": {
  "kernelspec": {
   "display_name": "Python 3",
   "language": "python",
   "name": "python3"
  },
  "language_info": {
   "codemirror_mode": {
    "name": "ipython",
    "version": 3
   },
   "file_extension": ".py",
   "mimetype": "text/x-python",
   "name": "python",
   "nbconvert_exporter": "python",
   "pygments_lexer": "ipython3",
   "version": "3.6.5"
  }
 },
 "nbformat": 4,
 "nbformat_minor": 2
}
