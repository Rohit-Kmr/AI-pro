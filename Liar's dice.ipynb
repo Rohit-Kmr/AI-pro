{
 "cells": [
  {
   "cell_type": "code",
   "execution_count": 48,
   "metadata": {},
   "outputs": [],
   "source": [
    "from random import *\n",
    "import time"
   ]
  },
  {
   "cell_type": "code",
   "execution_count": 57,
   "metadata": {},
   "outputs": [],
   "source": [
    "def gen_die():\n",
    "    t=[]\n",
    "    for i in range(5):\n",
    "        t.append(randrange(6)+1)\n",
    "    return t\n",
    "\n",
    "def cpuch(pre,cu_pl):\n",
    "    qu=pre[0]-cu_pl.count(pre[1])\n",
    "    if qu>3:\n",
    "        return 2\n",
    "    else:\n",
    "        return 1\n",
    "\n",
    "def cpubid(pre,cu_pl):\n",
    "    num_die=[]\n",
    "    for i in range(6):\n",
    "        num_die.append(cu_pl.count(i+1))\n",
    "    m=max(num_die)\n",
    "    if m==num_die[pre[1]] and m>2:\n",
    "        return [pre[0]+1,pre[1]]\n",
    "    else:\n",
    "        m=0\n",
    "        num=0\n",
    "        for i in range(pre[1],6):\n",
    "            if m<=num_die[i]:\n",
    "                m=num_die[i]\n",
    "                num=i+1\n",
    "        if m+2<=pre[0] and m>0:\n",
    "            return [pre[0],num]\n",
    "        else:\n",
    "            return [pre[0]+1,pre[1]]\n",
    "\n",
    "def cor_in(val,prebid):\n",
    "    if val[1] >prebid[1] and val[1]<=6 and val[1]>0 and val[0]>0:\n",
    "        return True\n",
    "    else:\n",
    "        if val[0] >prebid[0] and val[1] >=prebid[1] and val[1]<=6 and val[1]>0 and val[0]>0:\n",
    "            return True\n",
    "        else:\n",
    "            print('wrong input, please enter a correct input')\n",
    "            return False\n",
    "    \n",
    "def cor_ch(temp):\n",
    "    if temp.isdigit():\n",
    "        temp=int(temp)\n",
    "        if temp==1 or temp==2:\n",
    "            return True\n",
    "        else:\n",
    "            print(\"Wrong choice, please enter a correct choice\")\n",
    "    else:\n",
    "        print(\"Wrong input, please enter a correct choice\")\n",
    "    return False\n"
   ]
  },
  {
   "cell_type": "code",
   "execution_count": 69,
   "metadata": {},
   "outputs": [],
   "source": [
    "def game(pl,cpu,name):\n",
    "    \n",
    "    #Initial bid made by user\n",
    "    \n",
    "    die=[1,2,3,4,5,6]\n",
    "    prebid=[0,0]\n",
    "    while(1):\n",
    "        temp=input(\"make the first bid \\n(it in the format 3 of 4 meaning there are 3 faces of 4 ) : \")\n",
    "        val=temp.split(\"of\")\n",
    "        val[0]=int(val[0])\n",
    "        val[1]=int(val[1])\n",
    "        if cor_in(val,prebid):\n",
    "            prebid=list(val)\n",
    "            break\n",
    "    \n",
    "    \n",
    "    print(\"\\n\")\n",
    "    #Begining of Game\n",
    "\n",
    "    p1=\"\"\n",
    "    p2=\"\"\n",
    "    while(1):\n",
    "        cch=cpuch(prebid,cpu)\n",
    "        if cch==1:\n",
    "            bid=cpubid(prebid,cpu)\n",
    "            print(\"CPU BID : \"+str(bid[0])+\" faces of \"+str(bid[1]))\n",
    "            prebid=list(bid)\n",
    "        if cch==2:\n",
    "            p1=\"CPU\"\n",
    "            p2=\"YOU\"\n",
    "            print(p1+\" CHALLENGED \"+p2)\n",
    "            break\n",
    "        print(\"Your turn\")\n",
    "        ch=0\n",
    "        while(1):\n",
    "            ch=input(' Menu\\n 1. Bid\\n 2. Challenge\\n choice : ')\n",
    "            if cor_ch(ch):\n",
    "                break\n",
    "        ch=int(ch)\n",
    "        if ch==1:\n",
    "            while(1):\n",
    "                temp=input(\"make your bid \\n(it in the format 3 of 4 meaning there are 3 faces of 4 ) : \")\n",
    "                bid=temp.split(\"of\")\n",
    "                bid[0]=int(bid[0])\n",
    "                bid[1]=int(bid[1])\n",
    "                if cor_in(bid,prebid):\n",
    "                    prebid=list(bid)\n",
    "                    break\n",
    "            print(\"YOU BID : \"+str(bid[0])+\" faces of \"+str(bid[1]))\n",
    "        if ch==2:\n",
    "            p1=\"YOU\"\n",
    "            p2=\"CPU\"\n",
    "            print(p1+\" CHALLENGED \"+p2)\n",
    "            break\n",
    "\n",
    "    print(\"\\n\")\n",
    "    #END OF GAME\n",
    "        \n",
    "    print(\"SHOW DOWN\\n\")\n",
    "    time.sleep(2)\n",
    "    print(\"CPU's DICES :\"+str(cpu))\n",
    "    print(\"YOUR DICES :\"+str(pl)+\"\\n\")\n",
    "    time.sleep(1)\n",
    "    sumf=cpu.count(prebid[1])+pl.count(prebid[1])\n",
    "    if sumf<prebid[0]:\n",
    "        if p1=='YOU':\n",
    "            print(p1+\" WIN \"+name)\n",
    "        else:\n",
    "            print(p1+\" WINS\")\n",
    "    else:\n",
    "        if p2=='YOU':\n",
    "            print(p2+\" WIN \"+name)\n",
    "        else:\n",
    "            print(p2+\" WINS\")\n"
   ]
  },
  {
   "cell_type": "code",
   "execution_count": 67,
   "metadata": {},
   "outputs": [
    {
     "name": "stdout",
     "output_type": "stream",
     "text": [
      "Enter your name : Rohit\n"
     ]
    }
   ],
   "source": [
    "name=input(\"Enter your name : \")"
   ]
  },
  {
   "cell_type": "code",
   "execution_count": 59,
   "metadata": {},
   "outputs": [
    {
     "name": "stdout",
     "output_type": "stream",
     "text": [
      "Welcom to the game Rohit\n",
      "\n",
      "The rules are as follows :- \n",
      "\n",
      "To begin each round, all players roll their dice simultaneously. Each player looks at their own dice after they roll, keeping them hidden from the other players. (If any dice has landed on top of another, the player must roll all their dice again.) \n",
      "\n",
      " The first player then states a bid consisting of a face (\"1's\", \"5's\", etc.) and a quantity. The quantity represents the player's guess as to how many of each face have been rolled by all the players at the table, including themselves. For example, a player might bid \"five 2's.\" \n",
      "\n",
      " Each subsequent player can either then make a higher bid of the same face (e.g., \"six 2's\") or they can make the same bid of higher face (e.g., \"five of 3's\"), or they can challenge the previous bid. (Note that there are a large variety of bidding variations that can be used. We'll describe some of them below.)\n",
      "\n",
      " If the player challenges the previous bid, all players reveal their dice. If the bid is matched or exceeded, the bidder wins. Otherwise the challenger wins.\")\n"
     ]
    }
   ],
   "source": [
    "print(\"Welcom to the game \"+name+\"\\n\")\n",
    "print(\"The rules are as follows :- \\n\")\n",
    "print('To begin each round, all players roll their dice simultaneously. Each player looks at their own dice after they roll, keeping them hidden from the other players. (If any dice has landed on top of another, the player must roll all their dice again.) \\n'+\n",
    "\n",
    "'\\n The first player then states a bid consisting of a face (\"1\\'s\", \"5\\'s\", etc.) and a quantity. The quantity represents the player\\'s guess as to how many of each face have been rolled by all the players at the table, including themselves. For example, a player might bid \"five 2\\'s.\" \\n'+\n",
    "\n",
    "'\\n Each subsequent player can either then make a higher bid of the same face (e.g., \"six 2\\'s\") or they can make the same bid of higher face (e.g., \"five of 3\\'s\"), or they can challenge the previous bid. (Note that there are a large variety of bidding variations that can be used. We\\'ll describe some of them below.)\\n'+\n",
    "\n",
    "'\\n If the player challenges the previous bid, all players reveal their dice. If the bid is matched or exceeded, the bidder wins. Otherwise the challenger wins.\")')"
   ]
  },
  {
   "cell_type": "code",
   "execution_count": 62,
   "metadata": {},
   "outputs": [
    {
     "name": "stdout",
     "output_type": "stream",
     "text": [
      "Lets roll dice\n",
      "Ready!!\n",
      "YOUR DICE ROLL : [6, 4, 3, 4, 5]\n"
     ]
    }
   ],
   "source": [
    "print(\"Lets roll dice\")\n",
    "time.sleep(1)\n",
    "print(\"Ready!!\")\n",
    "time.sleep(1)\n",
    "pl=gen_die()\n",
    "cpu=gen_die()\n",
    "print(\"YOUR DICE ROLL : \"+str(pl))"
   ]
  },
  {
   "cell_type": "code",
   "execution_count": 70,
   "metadata": {},
   "outputs": [
    {
     "name": "stdout",
     "output_type": "stream",
     "text": [
      "make the first bid \n",
      "(it in the format 3 of 4 meaning there are 3 faces of 4 ) : 2 of 4\n",
      "\n",
      "\n",
      "CPU BID : 3 faces of 4\n",
      "Your turn\n",
      " Menu\n",
      " 1. Bid\n",
      " 2. Challenge\n",
      " choice : 2\n",
      "YOU CHALLENGED CPU\n",
      "\n",
      "\n",
      "SHOW DOWN\n",
      "\n",
      "CPU's DICES :[1, 5, 3, 1, 3]\n",
      "YOUR DICES :[6, 4, 3, 4, 5]\n",
      "\n",
      "YOU WIN Rohit\n"
     ]
    }
   ],
   "source": [
    "game(pl,cpu,name)"
   ]
  },
  {
   "cell_type": "code",
   "execution_count": 31,
   "metadata": {},
   "outputs": [],
   "source": []
  }
 ],
 "metadata": {
  "kernelspec": {
   "display_name": "Python 3",
   "language": "python",
   "name": "python3"
  },
  "language_info": {
   "codemirror_mode": {
    "name": "ipython",
    "version": 3
   },
   "file_extension": ".py",
   "mimetype": "text/x-python",
   "name": "python",
   "nbconvert_exporter": "python",
   "pygments_lexer": "ipython3",
   "version": "3.6.5"
  }
 },
 "nbformat": 4,
 "nbformat_minor": 2
}
